{
 "cells": [
  {
   "cell_type": "markdown",
   "id": "72012026-0b25-49f8-8df7-ac0d452b290a",
   "metadata": {},
   "source": [
    "# Graficar Funciones\n",
    "$y(x) = x^3 - 7x^2 + 4x + 12$"
   ]
  },
  {
   "cell_type": "code",
   "execution_count": 3,
   "id": "be9bcb84-4f1d-4a2b-a9d2-49135cc9efba",
   "metadata": {},
   "outputs": [],
   "source": [
    "# y(x)=x^3-7x^2+4x+12\n",
    "def eqn(x: int) -> int:\n",
    "    # ** símbolo de potencia en python, no se usa el `^` como en otros lenguajes\n",
    "    return x**3 - 7 * x**2 + 4 * x + 12"
   ]
  },
  {
   "cell_type": "code",
   "execution_count": 2,
   "id": "a90e9cc3-1906-41b6-a857-07969c909dd0",
   "metadata": {},
   "outputs": [
    {
     "name": "stdout",
     "output_type": "stream",
     "text": [
      "x = -5 \ty = -308\n",
      "x = 0 \ty = 12\n",
      "x = 5 \ty = -18\n"
     ]
    },
    {
     "data": {
      "text/plain": [
       "[-308, 12, -18]"
      ]
     },
     "execution_count": 2,
     "metadata": {},
     "output_type": "execute_result"
    }
   ],
   "source": [
    "Xs, Ys = [], []\n",
    "for x in [-5, 0, 5]:\n",
    "    y = eqn(x)\n",
    "    Xs.append(x)\n",
    "    Ys.append(y)\n",
    "    print(f\"x = {x} \\ty = {y}\")\n",
    "Ys"
   ]
  },
  {
   "cell_type": "code",
   "execution_count": 4,
   "id": "136fce40-7f05-4fca-a939-dd2e7fbf3d47",
   "metadata": {},
   "outputs": [
    {
     "data": {
      "text/plain": [
       "[<matplotlib.lines.Line2D at 0x1d1a09c7aa0>]"
      ]
     },
     "execution_count": 4,
     "metadata": {},
     "output_type": "execute_result"
    },
    {
     "data": {
      "image/png": "[encoded data removed]",
      "text/plain": [
       "<Figure size 640x480 with 1 Axes>"
      ]
     },
     "metadata": {},
     "output_type": "display_data"
    }
   ],
   "source": [
    "from matplotlib import pyplot as plt\n",
    "#import seaborn as sns ## alternatica chévere\n",
    "plt.plot(Xs, Ys)"
   ]
  },
  {
   "cell_type": "code",
   "execution_count": 5,
   "id": "21c34e33-2dae-4769-b19e-f4e651ef6ed8",
   "metadata": {},
   "outputs": [],
   "source": [
    "# Generador de puntos para la gráfica\n",
    "import numpy as np\n",
    "\n",
    "## Generar 100 datos del -10 al 10\n",
    "Xs, step = np.linspace(-10, 10,num=100, retstep=True)"
   ]
  },
  {
   "cell_type": "code",
   "execution_count": 6,
   "id": "160b00de-3444-4766-9076-f4207dea67b8",
   "metadata": {},
   "outputs": [
    {
     "name": "stdout",
     "output_type": "stream",
     "text": [
      "x = -10.00 \t y = -1728.00\n",
      "x = -9.80 \t y = -1639.80\n",
      "x = -9.60 \t y = -1554.58\n",
      "x = -9.39 \t y = -1472.28\n",
      "x = -9.19 \t y = -1392.85\n",
      "x = -8.99 \t y = -1316.24\n",
      "x = -8.79 \t y = -1242.40\n",
      "x = -8.59 \t y = -1171.29\n",
      "x = -8.38 \t y = -1102.85\n",
      "x = -8.18 \t y = -1037.03\n",
      "x = -7.98 \t y = -973.79\n",
      "x = -7.78 \t y = -913.08\n",
      "x = -7.58 \t y = -854.84\n",
      "x = -7.37 \t y = -799.02\n",
      "x = -7.17 \t y = -745.59\n",
      "x = -6.97 \t y = -694.48\n",
      "x = -6.77 \t y = -645.65\n",
      "x = -6.57 \t y = -599.05\n",
      "x = -6.36 \t y = -554.63\n",
      "x = -6.16 \t y = -512.33\n",
      "x = -5.96 \t y = -472.12\n",
      "x = -5.76 \t y = -433.94\n",
      "x = -5.56 \t y = -397.74\n",
      "x = -5.35 \t y = -363.47\n",
      "x = -5.15 \t y = -331.08\n",
      "x = -4.95 \t y = -300.53\n",
      "x = -4.75 \t y = -271.76\n",
      "x = -4.55 \t y = -244.72\n",
      "x = -4.34 \t y = -219.37\n",
      "x = -4.14 \t y = -195.66\n",
      "x = -3.94 \t y = -173.52\n",
      "x = -3.74 \t y = -152.93\n",
      "x = -3.54 \t y = -133.82\n",
      "x = -3.33 \t y = -116.15\n",
      "x = -3.13 \t y = -99.86\n",
      "x = -2.93 \t y = -84.92\n",
      "x = -2.73 \t y = -71.26\n",
      "x = -2.53 \t y = -58.84\n",
      "x = -2.32 \t y = -47.61\n",
      "x = -2.12 \t y = -37.53\n",
      "x = -1.92 \t y = -28.53\n",
      "x = -1.72 \t y = -20.57\n",
      "x = -1.52 \t y = -13.61\n",
      "x = -1.31 \t y = -7.59\n",
      "x = -1.11 \t y = -2.46\n",
      "x = -0.91 \t y = 1.83\n",
      "x = -0.71 \t y = 5.32\n",
      "x = -0.51 \t y = 8.07\n",
      "x = -0.30 \t y = 10.12\n",
      "x = -0.10 \t y = 11.52\n",
      "x = 0.10 \t y = 12.33\n",
      "x = 0.30 \t y = 12.60\n",
      "x = 0.51 \t y = 12.36\n",
      "x = 0.71 \t y = 11.68\n",
      "x = 0.91 \t y = 10.60\n",
      "x = 1.11 \t y = 9.17\n",
      "x = 1.31 \t y = 7.45\n",
      "x = 1.52 \t y = 5.47\n",
      "x = 1.72 \t y = 3.29\n",
      "x = 1.92 \t y = 0.96\n",
      "x = 2.12 \t y = -1.47\n",
      "x = 2.32 \t y = -3.95\n",
      "x = 2.53 \t y = -6.43\n",
      "x = 2.73 \t y = -8.87\n",
      "x = 2.93 \t y = -11.21\n",
      "x = 3.13 \t y = -13.41\n",
      "x = 3.33 \t y = -15.41\n",
      "x = 3.54 \t y = -17.16\n",
      "x = 3.74 \t y = -18.62\n",
      "x = 3.94 \t y = -19.74\n",
      "x = 4.14 \t y = -20.46\n",
      "x = 4.34 \t y = -20.74\n",
      "x = 4.55 \t y = -20.53\n",
      "x = 4.75 \t y = -19.78\n",
      "x = 4.95 \t y = -18.43\n",
      "x = 5.15 \t y = -16.45\n",
      "x = 5.35 \t y = -13.77\n",
      "x = 5.56 \t y = -10.36\n",
      "x = 5.76 \t y = -6.16\n",
      "x = 5.96 \t y = -1.11\n",
      "x = 6.16 \t y = 4.82\n",
      "x = 6.36 \t y = 11.68\n",
      "x = 6.57 \t y = 19.54\n",
      "x = 6.77 \t y = 28.43\n",
      "x = 6.97 \t y = 38.41\n",
      "x = 7.17 \t y = 49.52\n",
      "x = 7.37 \t y = 61.82\n",
      "x = 7.58 \t y = 75.35\n",
      "x = 7.78 \t y = 90.16\n",
      "x = 7.98 \t y = 106.31\n",
      "x = 8.18 \t y = 123.84\n",
      "x = 8.38 \t y = 142.80\n",
      "x = 8.59 \t y = 163.25\n",
      "x = 8.79 \t y = 185.22\n",
      "x = 8.99 \t y = 208.78\n",
      "x = 9.19 \t y = 233.97\n",
      "x = 9.39 \t y = 260.83\n",
      "x = 9.60 \t y = 289.43\n",
      "x = 9.80 \t y = 319.80\n",
      "x = 10.00 \t y = 352.00\n"
     ]
    }
   ],
   "source": [
    "# Generador de valores\n",
    "Ys = []\n",
    "\n",
    "for x in Xs:\n",
    "    y = eqn(x)\n",
    "    Ys.append(y)\n",
    "    print(f\"x = {x:.2f} \\t y = {y:.2f}\")"
   ]
  },
  {
   "cell_type": "code",
   "execution_count": null,
   "id": "f4efb4ba-bf1d-4665-af35-081ccaff8b54",
   "metadata": {},
   "outputs": [],
   "source": []
  }
 ],
 "metadata": {
  "kernelspec": {
   "display_name": "Python 3 (ipykernel)",
   "language": "python",
   "name": "python3"
  },
  "language_info": {
   "codemirror_mode": {
    "name": "ipython",
    "version": 3
   },
   "file_extension": ".py",
   "mimetype": "text/x-python",
   "name": "python",
   "nbconvert_exporter": "python",
   "pygments_lexer": "ipython3",
   "version": "3.12.3"
  }
 },
 "nbformat": 4,
 "nbformat_minor": 5
}
